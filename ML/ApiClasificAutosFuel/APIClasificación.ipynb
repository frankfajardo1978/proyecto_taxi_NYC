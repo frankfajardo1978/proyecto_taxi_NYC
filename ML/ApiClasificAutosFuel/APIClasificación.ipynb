{
 "cells": [
  {
   "cell_type": "markdown",
   "metadata": {},
   "source": [
    "# Fundamentación de la API. Clasificación autosFuel.\n",
    "\n",
    "Esta API de clasificaicón de autos Fuel está diseñada para facilitar el análisis y la selección de vehículos eficientes para flotas de taxis. Permite evaluar y priorizar vehículos según su rendimiento, emisiones y otras métricas clave, optimizando la inversión en vehículos que sean rentables y sostenibles."
   ]
  },
  {
   "cell_type": "code",
   "execution_count": 52,
   "metadata": {},
   "outputs": [
    {
     "name": "stderr",
     "output_type": "stream",
     "text": [
      "C:\\Users\\jerom\\AppData\\Local\\Temp\\ipykernel_6248\\1713813801.py:5: DtypeWarning: Columns (73,75) have mixed types. Specify dtype option on import or set low_memory=False.\n",
      "  data = pd.read_csv(file_path)\n"
     ]
    },
    {
     "data": {
      "text/plain": [
       "(   year manufacturer                          model  barrels08  barrelsa08  \\\n",
       " 0  2017          BMW                       M6 Coupe  17.500588         0.0   \n",
       " 1  2017          BMW                   X3 sDrive28i  12.396250         0.0   \n",
       " 2  2016     Infiniti                 Q50S Red Sport  13.523182         0.0   \n",
       " 3  2017         MINI  John Cooper Works Convertible  11.018889         0.0   \n",
       " 4  2017          Kia                      Sedona SX  14.167143         0.0   \n",
       " \n",
       "    charge240  city08  city08u  citya08  citya08u  ...  mfrcode  c240dscr  \\\n",
       " 0        0.0    15.0     14.0      0.0       0.0  ...      BMX       NaN   \n",
       " 1        0.0    21.0     21.0      0.0       0.0  ...      BMX       NaN   \n",
       " 2        0.0    20.0     19.0      0.0       0.0  ...      NSX       NaN   \n",
       " 3        0.0    24.0     23.0      0.0       0.0  ...      BMX       NaN   \n",
       " 4        0.0    18.0     18.0      0.0       0.0  ...      KMX       NaN   \n",
       " \n",
       "    charge240b  c240bdscr   createdon  modifiedon  startstop  phevcity  \\\n",
       " 0         0.0        NaN  04-04-2016  09-09-2016          Y       0.0   \n",
       " 1         0.0        NaN  04-04-2016  22-11-2016          Y       0.0   \n",
       " 2         0.0        NaN  04-04-2016  26-09-2016          N       0.0   \n",
       " 3         0.0        NaN  12-04-2016  16-09-2016          Y       0.0   \n",
       " 4         0.0        NaN  12-04-2016  02-12-2016          N       0.0   \n",
       " \n",
       "    phevhwy  phevcomb  \n",
       " 0      0.0       0.0  \n",
       " 1      0.0       0.0  \n",
       " 2      0.0       0.0  \n",
       " 3      0.0       0.0  \n",
       " 4      0.0       0.0  \n",
       " \n",
       " [5 rows x 82 columns],\n",
       " Index(['year', 'manufacturer', 'model', 'barrels08', 'barrelsa08', 'charge240',\n",
       "        'city08', 'city08u', 'citya08', 'citya08u', 'citycd', 'citye', 'cityuf',\n",
       "        'co2', 'co2a', 'co2tailpipeagpm', 'co2tailpipegpm', 'comb08', 'comb08u',\n",
       "        'comba08', 'comba08u', 'combe', 'combinedcd', 'combineduf', 'cylinders',\n",
       "        'displ', 'drive', 'engid', 'eng_dscr', 'fescore', 'fuelcost08',\n",
       "        'fuelcosta08', 'fueltype', 'fueltype1', 'ghgscore', 'ghgscorea',\n",
       "        'highway08', 'highway08u', 'highwaya08', 'highwaya08u', 'vclass',\n",
       "        'highwaycd', 'highwaye', 'highwayuf', 'hlv', 'hpv', 'id', 'lv2', 'lv4',\n",
       "        'mpgdata', 'phevblended', 'pv2', 'pv4', 'range', 'rangecity',\n",
       "        'rangecitya', 'rangehwy', 'rangehwya', 'trany', 'ucity', 'ucitya',\n",
       "        'uhighway', 'uhighwaya', 'yousavespend', 'guzzler', 'trans_dscr',\n",
       "        'tcharger', 'scharger', 'atvtype', 'fueltype2', 'rangea', 'evmotor',\n",
       "        'mfrcode', 'c240dscr', 'charge240b', 'c240bdscr', 'createdon',\n",
       "        'modifiedon', 'startstop', 'phevcity', 'phevhwy', 'phevcomb'],\n",
       "       dtype='object'))"
      ]
     },
     "execution_count": 52,
     "metadata": {},
     "output_type": "execute_result"
    }
   ],
   "source": [
    "import pandas as pd\n",
    "\n",
    "# Load the uploaded CSV file to analyze its structure and provide an explanation of the columns\n",
    "file_path = 'transformed_Vehicle Fuel Economy Data.csv'\n",
    "data = pd.read_csv(file_path)\n",
    "\n",
    "# Display the first few rows and column names to understand the structure\n",
    "data.head(), data.columns"
   ]
  },
  {
   "cell_type": "code",
   "execution_count": 53,
   "metadata": {},
   "outputs": [
    {
     "name": "stderr",
     "output_type": "stream",
     "text": [
      "C:\\Users\\jerom\\AppData\\Local\\Temp\\ipykernel_6248\\3135468582.py:12: DtypeWarning: Columns (73,75) have mixed types. Specify dtype option on import or set low_memory=False.\n",
      "  data = pd.read_csv('transformed_Vehicle Fuel Economy Data.csv')\n"
     ]
    }
   ],
   "source": [
    "from fastapi import FastAPI, Query\n",
    "from typing import List, Optional\n",
    "import pandas as pd\n",
    "import numpy as np\n",
    "import matplotlib.pyplot as plt\n",
    "from fastapi.responses import FileResponse\n",
    "import os\n",
    "\n",
    "app = FastAPI()\n",
    "\n",
    "# Cargar el conjunto de datos\n",
    "data = pd.read_csv('transformed_Vehicle Fuel Economy Data.csv')\n",
    "\n",
    "# Filtrar los datos para excluir híbridos y eléctricos\n",
    "data = data[data['fueltype'].str.contains(\"Electricity\") == False]\n",
    "data = data[data['fueltype2'].isna()]\n",
    "\n",
    "# Definir categorías de eficiencia\n",
    "def categorize_efficiency(row):\n",
    "    mpg = row['comb08']  # Economía de combustible combinada\n",
    "    if mpg >= 35:\n",
    "        return \"Eficiencia excelente\"\n",
    "    elif mpg >= 25:\n",
    "        return \"Eficiencia buena\"\n",
    "    elif mpg >= 15:\n",
    "        return \"Eficiencia regular\"\n",
    "    else:\n",
    "        return \"Eficiencia mala\"\n",
    "\n",
    "data['efficiency_category'] = data.apply(categorize_efficiency, axis=1)\n",
    "\n",
    "@app.get(\"/efficiency_analysis/\")\n",
    "def efficiency_analysis(category: Optional[str] = None):\n",
    "    categories = [\"Eficiencia excelente\", \"Eficiencia buena\", \"Eficiencia regular\", \"Eficiencia mala\"]\n",
    "\n",
    "    if category and category not in categories:\n",
    "        return {\"error\": f\"Categoría inválida. Las categorías válidas son: {categories}\"}\n",
    "\n",
    "    selected_categories = [category] if category else categories\n",
    "\n",
    "    all_results = []\n",
    "\n",
    "    for category in selected_categories:\n",
    "        filtered_data = data[data['efficiency_category'] == category]\n",
    "\n",
    "        if filtered_data.empty:\n",
    "            continue\n",
    "\n",
    "        # Seleccionar las columnas numéricas relevantes\n",
    "        numeric_columns = ['range', 'city08', 'highway08', 'co2', 'ghgscore', 'comb08']\n",
    "        analysis = filtered_data[[\n",
    "            'manufacturer', 'model', 'year', 'vclass', 'trany', 'fueltype', *numeric_columns\n",
    "        ]]\n",
    "\n",
    "        # Ordenar todos los modelos por economía de combustible combinada\n",
    "        sorted_data = analysis.sort_values(by='comb08', ascending=False).reset_index(drop=True)\n",
    "\n",
    "        # Agregar los resultados al conjunto global\n",
    "        sorted_data['efficiency_category'] = category\n",
    "        all_results.append(sorted_data)\n",
    "\n",
    "    # Combinar todos los resultados\n",
    "    final_data = pd.concat(all_results, ignore_index=True)\n",
    "\n",
    "    # Exportar a CSV\n",
    "    output_path = \"efficiency_analysis.csv\"\n",
    "    final_data.to_csv(output_path, index=False)\n",
    "\n",
    "    return FileResponse(output_path, media_type=\"text/csv\", filename=\"efficiency_analysis.csv\")\n",
    "\n",
    "@app.get(\"/efficiency_graphs/\")\n",
    "def efficiency_graphs(category: Optional[str] = None):\n",
    "    categories = [\"Eficiencia excelente\", \"Eficiencia buena\", \"Eficiencia regular\", \"Eficiencia mala\"]\n",
    "\n",
    "    if category and category not in categories:\n",
    "        return {\"error\": f\"Categoría inválida. Las categorías válidas son: {categories}\"}\n",
    "\n",
    "    selected_categories = [category] if category else categories\n",
    "    output_dir = \"graphs\"\n",
    "    os.makedirs(output_dir, exist_ok=True)\n",
    "\n",
    "    for category in selected_categories:\n",
    "        filtered_data = data[data['efficiency_category'] == category]\n",
    "\n",
    "        if filtered_data.empty:\n",
    "            continue\n",
    "\n",
    "        # Seleccionar las columnas numéricas relevantes\n",
    "        numeric_columns = ['range', 'city08', 'highway08', 'co2', 'ghgscore', 'comb08']\n",
    "        analysis = filtered_data[[\n",
    "            'manufacturer', 'model', 'year', 'vclass', 'trany', 'fueltype', *numeric_columns\n",
    "        ]]\n",
    "\n",
    "        # Obtener los 15 mejores modelos por economía de combustible combinada\n",
    "        top_15 = analysis.nlargest(15, 'comb08')\n",
    "\n",
    "        # Crear un gráfico separado para cada métrica numérica\n",
    "        for column in numeric_columns:\n",
    "            plt.figure(figsize=(12, 8))\n",
    "            x = np.arange(len(top_15))\n",
    "            y = top_15[column].values\n",
    "\n",
    "            # Calcular la media\n",
    "            y_mean = np.mean(y)\n",
    "\n",
    "            # Gráfico con datos reales y línea de la media\n",
    "            plt.bar(top_15['model'], y, color='skyblue', label='Datos reales')\n",
    "            plt.axhline(y=y_mean, color='red', linestyle='--', label=f'Media: {y_mean:.2f}')\n",
    "\n",
    "            plt.title(f\"Top 15 modelos por {column} - {category}\")\n",
    "            plt.xlabel(\"Modelos\")\n",
    "            plt.ylabel(column)\n",
    "            plt.xticks(rotation=45, ha='right')\n",
    "            plt.legend()\n",
    "            plt.tight_layout()\n",
    "\n",
    "            # Guardar el gráfico\n",
    "            graph_path = os.path.join(output_dir, f\"{category.replace(' ', '_')}_{column}.png\")\n",
    "            plt.savefig(graph_path)\n",
    "            plt.close()\n",
    "\n",
    "    return FileResponse(output_dir, media_type=\"application/zip\", filename=\"efficiency_graphs.zip\")\n"
   ]
  },
  {
   "cell_type": "code",
   "execution_count": 54,
   "metadata": {},
   "outputs": [
    {
     "data": {
      "text/plain": [
       "<starlette.responses.FileResponse at 0x27f01874260>"
      ]
     },
     "execution_count": 54,
     "metadata": {},
     "output_type": "execute_result"
    }
   ],
   "source": [
    "efficiency_analysis(\"Eficiencia buena\")"
   ]
  },
  {
   "cell_type": "code",
   "execution_count": 55,
   "metadata": {},
   "outputs": [
    {
     "data": {
      "text/plain": [
       "<starlette.responses.FileResponse at 0x27f0c3ad5e0>"
      ]
     },
     "execution_count": 55,
     "metadata": {},
     "output_type": "execute_result"
    }
   ],
   "source": [
    "efficiency_graphs (\"Eficiencia buena\")"
   ]
  },
  {
   "cell_type": "code",
   "execution_count": 56,
   "metadata": {},
   "outputs": [
    {
     "data": {
      "text/plain": [
       "<starlette.responses.FileResponse at 0x27f002a4860>"
      ]
     },
     "execution_count": 56,
     "metadata": {},
     "output_type": "execute_result"
    }
   ],
   "source": [
    "efficiency_graphs (\"Eficiencia excelente\")"
   ]
  },
  {
   "cell_type": "markdown",
   "metadata": {},
   "source": [
    "# Flujo de Trabajo\n",
    "1. Identificación de Necesidades:\n",
    "    - La agencia determina qué métricas son importantes para su operación (e.g., rendimiento de combustible, emisiones bajas, costos de operación).\n",
    "    - Las categorías predefinidas (\"Eficiencia excelente\", \"Eficiencia buena\", etc.) permiten organizar vehículos según su idoneidad para el uso intensivo como taxis.\n",
    "2. Carga y Filtrado de Datos:\n",
    "    - La API utiliza un conjunto de datos de vehículos que incluye información sobre consumo, emisiones y rango.\n",
    "    - Se excluyen vehículos eléctricos e híbridos para centrarse en opciones convencionales.\n",
    "3. Análisis de Eficiencia:\n",
    "    - La API clasifica los vehículos en cuatro categorías de eficiencia basadas en su consumo combinado (millas por galón, MPG).\n",
    "    - Los datos analizados incluyen:\n",
    "        + Rango (capacidad de operar largas distancias entre recargas/repostajes).\n",
    "        + Consumo en ciudad y carretera (ideal para diferentes condiciones de tráfico).\n",
    "        + Emisiones de CO2 (para cumplir con regulaciones ambientales).\n",
    "4. Generación de Reportes:\n",
    "\n",
    "    - Exportación CSV:\n",
    "        + Un archivo CSV que lista todos los vehículos clasificados por categoría y ordenados de mayor a menor eficiencia.\n",
    "        + Incluye detalles como fabricante, modelo, año, rango y emisiones.\n",
    "    - Gráficos Comparativos:\n",
    "        + Gráficos visuales para cada métrica clave (e.g., rango, consumo en ciudad) que permiten comparar rápidamente los vehículos más destacados.\n",
    "5. Toma de Decisiones:\n",
    "    - La agencia utiliza los datos generados para:\n",
    "        + Seleccionar vehículos con mayor rendimiento y menor impacto ambiental.\n",
    "        + Priorizar vehículos que optimicen costos operativos (combustible y mantenimiento).\n",
    "\n",
    "# Beneficios para la Agencia de Transporte\n",
    "\n",
    "1. Optimización de Costos:\n",
    "    - Selección de vehículos con mejor rendimiento en consumo de combustible.\n",
    "    - Identificación de opciones que minimizan costos operativos.\n",
    "2. Cumplimiento Ambiental: Elección de vehículos con menores emisiones de CO2 para cumplir con regulaciones y mejorar la percepción pública.\n",
    "3. Facilitación de la Toma de Decisiones: Los reportes detallados y gráficos visuales ofrecen una visión clara de las opciones disponibles.\n",
    "4. Escalabilidad: La API puede analizar grandes volúmenes de datos para futuras expansiones de flota o nuevas adquisiciones."
   ]
  },
  {
   "cell_type": "markdown",
   "metadata": {},
   "source": [
    "# Posibles mejoras de la API. \n",
    "Las mejoras incluyen aplicación de machine learning. \n",
    "\n",
    "1. Predicción de Costos Operativos por modelo\n",
    "    - Idea: Usar Machine Learning para predecir costos anuales basados en consumo, rango y emisiones.\n",
    "    - Beneficio: Ayuda a elegir vehículos más rentables a largo plazo.\n",
    "2. Clustering de Vehículos por Uso\n",
    "    - Idea: Agrupar vehículos según características como rango y consumo (e.g., \"óptimos para ciudad\", \"óptimos para largas distancias\").\n",
    "    - Beneficio: Optimiza el uso de la flota según las condiciones operativas.\n",
    "3. Recomendación Basada en Prioridades\n",
    "    - Idea: Crear un sistema de recomendación que clasifique vehículos según prioridades definidas (e.g., eficiencia, emisiones).\n",
    "    - Beneficio: Permite personalizar la selección de vehículos según necesidades del negocio."
   ]
  },
  {
   "cell_type": "markdown",
   "metadata": {},
   "source": [
    "# Aplicación de mejora 1. Ejemplo\n",
    "\n"
   ]
  },
  {
   "cell_type": "code",
   "execution_count": 57,
   "metadata": {},
   "outputs": [
    {
     "name": "stderr",
     "output_type": "stream",
     "text": [
      "C:\\Users\\jerom\\AppData\\Local\\Temp\\ipykernel_6248\\3983274898.py:12: DtypeWarning: Columns (73,75) have mixed types. Specify dtype option on import or set low_memory=False.\n",
      "  data = pd.read_csv('transformed_Vehicle Fuel Economy Data.csv')\n"
     ]
    }
   ],
   "source": [
    "from fastapi import FastAPI, Query\n",
    "from typing import List, Optional\n",
    "import pandas as pd\n",
    "import numpy as np\n",
    "from sklearn.linear_model import LinearRegression\n",
    "from fastapi.responses import FileResponse\n",
    "import os\n",
    "\n",
    "app = FastAPI()\n",
    "\n",
    "# Cargar el conjunto de datos\n",
    "data = pd.read_csv('transformed_Vehicle Fuel Economy Data.csv')\n",
    "\n",
    "# Filtrar los datos para excluir híbridos y eléctricos\n",
    "data = data[data['fueltype'].str.contains(\"Electricity\") == False]\n",
    "data = data[data['fueltype2'].isna()]\n",
    "\n",
    "# Asegurarse de que las columnas numéricas sean realmente numéricas\n",
    "numeric_columns = ['range', 'city08', 'highway08', 'co2', 'ghgscore', 'comb08']\n",
    "for col in numeric_columns:\n",
    "    data[col] = pd.to_numeric(data[col], errors='coerce')\n",
    "\n",
    "# Eliminar filas con valores nulos en las columnas numéricas relevantes\n",
    "data = data.dropna(subset=numeric_columns)\n",
    "\n",
    "# Definir categorías de eficiencia\n",
    "def categorize_efficiency(row):\n",
    "    mpg = row['comb08']  # Economía de combustible combinada\n",
    "    if mpg >= 35:\n",
    "        return \"Eficiencia excelente\"\n",
    "    elif mpg >= 25:\n",
    "        return \"Eficiencia buena\"\n",
    "    elif mpg >= 15:\n",
    "        return \"Eficiencia regular\"\n",
    "    else:\n",
    "        return \"Eficiencia mala\"\n",
    "\n",
    "data['efficiency_category'] = data.apply(categorize_efficiency, axis=1)\n",
    "\n",
    "@app.get(\"/efficiency_analysis/\")\n",
    "def efficiency_analysis(category: Optional[str] = None):\n",
    "    categories = [\"Eficiencia excelente\", \"Eficiencia buena\", \"Eficiencia regular\", \"Eficiencia mala\"]\n",
    "\n",
    "    if category and category not in categories:\n",
    "        return {\"error\": f\"Categoría inválida. Las categorías válidas son: {categories}\"}\n",
    "\n",
    "    selected_categories = [category] if category else categories\n",
    "\n",
    "    all_results = []\n",
    "\n",
    "    for category in selected_categories:\n",
    "        filtered_data = data[data['efficiency_category'] == category]\n",
    "\n",
    "        if filtered_data.empty:\n",
    "            continue\n",
    "\n",
    "        # Seleccionar las columnas numéricas relevantes\n",
    "        analysis = filtered_data[[\n",
    "            'manufacturer', 'model', 'year', 'vclass', 'trany', 'fueltype', *numeric_columns\n",
    "        ]]\n",
    "\n",
    "        # Ordenar todos los modelos por economía de combustible combinada\n",
    "        sorted_data = analysis.sort_values(by='comb08', ascending=False).reset_index(drop=True)\n",
    "\n",
    "        # Agregar los resultados al conjunto global\n",
    "        sorted_data['efficiency_category'] = category\n",
    "        all_results.append(sorted_data)\n",
    "\n",
    "    # Combinar todos los resultados\n",
    "    final_data = pd.concat(all_results, ignore_index=True)\n",
    "\n",
    "    # Exportar a CSV\n",
    "    output_path = \"efficiency_analysis.csv\"\n",
    "    final_data.to_csv(output_path, index=False)\n",
    "\n",
    "    return FileResponse(output_path, media_type=\"text/csv\", filename=\"efficiency_analysis.csv\")\n",
    "\n",
    "@app.post(\"/predict_operating_cost_by_model/\")\n",
    "def predict_operating_cost_by_model(model_name: str):\n",
    "    # Filtrar el modelo específico\n",
    "    model_data = data[data['model'].str.contains(model_name, case=False, na=False)]\n",
    "\n",
    "    if model_data.empty:\n",
    "        return {\"error\": f\"No se encontró información para el modelo '{model_name}'\"}\n",
    "\n",
    "    # Seleccionar columnas relevantes para la predicción\n",
    "    model_features = model_data[['city08', 'highway08', 'range', 'co2']].mean()\n",
    "\n",
    "    # Crear un modelo de regresión lineal ficticio con datos simulados\n",
    "    training_data = {\n",
    "        \"city08\": np.random.uniform(10, 40, 100),\n",
    "        \"highway08\": np.random.uniform(15, 50, 100),\n",
    "        \"range\": np.random.uniform(200, 600, 100),\n",
    "        \"co2\": np.random.uniform(100, 400, 100),\n",
    "        \"cost\": np.random.uniform(2000, 8000, 100),\n",
    "    }\n",
    "    training_df = pd.DataFrame(training_data)\n",
    "\n",
    "    X = training_df[[\"city08\", \"highway08\", \"range\", \"co2\"]]\n",
    "    y = training_df[\"cost\"]\n",
    "\n",
    "    model = LinearRegression()\n",
    "    model.fit(X, y)\n",
    "\n",
    "    # Predecir el costo basado en los valores promedio del modelo\n",
    "    input_data = model_features.values.reshape(1, -1)\n",
    "    predicted_cost = model.predict(input_data)\n",
    "\n",
    "    return {\n",
    "        \"Predicted Operating Cost\": f\"${predicted_cost[0]:.2f} por año\",\n",
    "        \"Model\": model_name,\n",
    "        \"Inputs (Promedios del Modelo)\": {\n",
    "            \"city08 (MPG en ciudad)\": model_features['city08'],\n",
    "            \"highway08 (MPG en carretera)\": model_features['highway08'],\n",
    "            \"range (millas)\": model_features['range'],\n",
    "            \"co2 (g/milla)\": model_features['co2'],\n",
    "        },\n",
    "    }\n"
   ]
  },
  {
   "cell_type": "code",
   "execution_count": 58,
   "metadata": {},
   "outputs": [
    {
     "data": {
      "text/plain": [
       "<starlette.responses.FileResponse at 0x27f5c88cd70>"
      ]
     },
     "execution_count": 58,
     "metadata": {},
     "output_type": "execute_result"
    }
   ],
   "source": [
    "efficiency_analysis(\"Eficiencia excelente\")"
   ]
  },
  {
   "cell_type": "code",
   "execution_count": 85,
   "metadata": {},
   "outputs": [
    {
     "name": "stderr",
     "output_type": "stream",
     "text": [
      "c:\\Users\\jerom\\AppData\\Local\\Programs\\Python\\Python312\\Lib\\site-packages\\sklearn\\base.py:493: UserWarning: X does not have valid feature names, but LinearRegression was fitted with feature names\n",
      "  warnings.warn(\n"
     ]
    },
    {
     "data": {
      "text/plain": [
       "{'Predicted Operating Cost': '$5849.80 por año',\n",
       " 'Model': 'Ioniq Blue',\n",
       " 'Inputs (Promedios del Modelo)': {'city08 (MPG en ciudad)': 57.333333333333336,\n",
       "  'highway08 (MPG en carretera)': 59.333333333333336,\n",
       "  'range (millas)': 0.0,\n",
       "  'co2 (g/milla)': 153.0}}"
      ]
     },
     "execution_count": 85,
     "metadata": {},
     "output_type": "execute_result"
    }
   ],
   "source": [
    "predict_operating_cost_by_model(\"Ioniq Blue\")"
   ]
  },
  {
   "cell_type": "code",
   "execution_count": 88,
   "metadata": {},
   "outputs": [
    {
     "name": "stderr",
     "output_type": "stream",
     "text": [
      "c:\\Users\\jerom\\AppData\\Local\\Programs\\Python\\Python312\\Lib\\site-packages\\sklearn\\base.py:493: UserWarning: X does not have valid feature names, but LinearRegression was fitted with feature names\n",
      "  warnings.warn(\n"
     ]
    },
    {
     "data": {
      "text/plain": [
       "{'Predicted Operating Cost': '$3601.95 por año',\n",
       " 'Model': 'Accord Hybrid',\n",
       " 'Inputs (Promedios del Modelo)': {'city08 (MPG en ciudad)': 42.8,\n",
       "  'highway08 (MPG en carretera)': 42.46666666666667,\n",
       "  'range (millas)': 0.0,\n",
       "  'co2 (g/milla)': 152.0}}"
      ]
     },
     "execution_count": 88,
     "metadata": {},
     "output_type": "execute_result"
    }
   ],
   "source": [
    "predict_operating_cost_by_model(\"Accord Hybrid\")"
   ]
  },
  {
   "cell_type": "markdown",
   "metadata": {},
   "source": [
    "# Explicación de la API Aplicada al Negocio\n",
    "Esta API está diseñada para apoyar a una agencia de transporte o empresa interesada en optimizar su flota de taxis. Proporciona herramientas para analizar la eficiencia de los vehículos y predecir costos operativos, lo que permite tomar decisiones informadas al adquirir o gestionar vehículos. Vale aclarar que el algoritmo esta trabajando con datos ficticios, en la medida que avance el proyecto se puede trabajar con datos reales. \n",
    "\n",
    "# Flujo y Aplicación de los Endpoints\n",
    "\n",
    "1. Análisis de Eficiencia de Vehículos (/efficiency_analysis/)\n",
    "    - ¿Qué hace?\n",
    "        + Clasifica los vehículos en categorías como \"Eficiencia excelente\", \"Eficiencia buena\", etc.\n",
    "        + Genera un archivo CSV con información detallada de los vehículos, ordenados por su eficiencia combinada.\n",
    "    - Aplicación para el negocio:\n",
    "        + Permite identificar rápidamente los vehículos más eficientes para el uso en flotas de taxis, reduciendo costos de combustible y emisiones.\n",
    "        + Ayuda a priorizar modelos según su rendimiento en ciudad y carretera, ideal para diferentes contextos operativos.\n",
    "2. Predicción de Costo Operativo por Modelo (/predict_operating_cost_by_model/)\n",
    "    - ¿Qué hace?\n",
    "        + Permite ingresar el nombre de un modelo de auto.\n",
    "        + La API filtra los datos históricos del modelo y utiliza sus características promedio (city08, highway08, range, co2) para predecir el costo operativo anual usando un modelo de regresión.\n",
    "    - Aplicación para el negocio:\n",
    "        + Proporciona una estimación clara del costo operativo para cada modelo, basada en datos de rendimiento y emisiones.\n",
    "        + Ayuda a calcular el retorno de inversión (ROI) de vehículos específicos al considerar costos a largo plazo.\n",
    "        + Reduce riesgos al elegir vehículos que resulten costosos de operar.\n",
    "\n",
    "# Impacto en el Negocio\n",
    "1. Optimización de Inversiones: La agencia puede enfocar su presupuesto en vehículos con un equilibrio ideal entre eficiencia y costo operativo, maximizando la rentabilidad de su flota.\n",
    "2. Toma de Decisiones Informada: Los datos generados permiten comparar modelos en función de métricas clave como emisiones y consumo, facilitando la selección de vehículos que cumplan con regulaciones ambientales y necesidades operativas.\n",
    "3. Alineación con Sostenibilidad: Promueve la elección de vehículos con bajas emisiones de CO2, mejorando la percepción de la marca y cumpliendo objetivos de responsabilidad ambiental."
   ]
  }
 ],
 "metadata": {
  "kernelspec": {
   "display_name": "Python 3",
   "language": "python",
   "name": "python3"
  },
  "language_info": {
   "codemirror_mode": {
    "name": "ipython",
    "version": 3
   },
   "file_extension": ".py",
   "mimetype": "text/x-python",
   "name": "python",
   "nbconvert_exporter": "python",
   "pygments_lexer": "ipython3",
   "version": "3.12.1"
  }
 },
 "nbformat": 4,
 "nbformat_minor": 2
}
