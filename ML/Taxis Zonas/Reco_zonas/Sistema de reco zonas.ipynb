{
 "cells": [
  {
   "cell_type": "markdown",
   "metadata": {},
   "source": [
    "# Objetivo de la API\n",
    "1. Objetivo: Ayudar a los conductores a decidir en qué zonas operar según la cantidad de trabajo que buscan:\n",
    "    - Mucho trabajo: Zonas con alta demanda de viajes.\n",
    "    -  Algo de trabajo: Zonas con demanda media.\n",
    "    - Poco trabajo: Zonas con baja demanda, pero con potenciales beneficios específicos (menos competencia, distancias largas, etc.).\n",
    "2. Datos clave para el análisis:\n",
    "    - Viajes: Información sobre cuántos viajes ocurren en cada zona (demanda).\n",
    "    - Ganancias promedio: Cuánto ganan los conductores por viaje en cada zona.\n",
    "    - Distancia promedio: Para entender la relación entre distancia recorrida y ganancias.\n",
    "    - Ubicaciones geográficas: Para facilitar la navegación hacia zonas recomendadas mediante un enlace a Google Maps."
   ]
  },
  {
   "cell_type": "markdown",
   "metadata": {},
   "source": [
    "# Beneficios para el negocio:\n",
    "1. Optimización del tiempo del conductor:\n",
    "    - Ayuda a los conductores a concentrarse en zonas donde tendrán más viajes o mejores ganancias según su preferencia.\n",
    "2. Maximización de ingresos:\n",
    "    - Identifica zonas con mayores ganancias promedio, lo que ayuda a los conductores a aumentar sus ingresos por hora.\n",
    "3. Uso de datos geográficos:\n",
    "    - El enlace a Google Maps permite una navegación sencilla, facilitando la llegada a zonas específicas.\n",
    "4. Flexibilidad:\n",
    "    - Los conductores pueden elegir entre priorizar cantidad de viajes, ganancias por viaje, o moverse a zonas menos saturadas.\n",
    "\n",
    "# Caso práctico:\n",
    "\n",
    "Un conductor consulta la API con /recommendations?work_amount=mucho. El sistema le recomienda zonas con alta demanda, junto con datos como ganancias promedio y un enlace directo a Google Maps. Esto le permite dirigirse directamente a las zonas más rentables y mejorar su eficiencia."
   ]
  },
  {
   "cell_type": "code",
   "execution_count": 34,
   "metadata": {},
   "outputs": [
    {
     "name": "stderr",
     "output_type": "stream",
     "text": [
      "C:\\Users\\jerom\\AppData\\Local\\Temp\\ipykernel_15944\\824333614.py:9: DtypeWarning: Columns (6) have mixed types. Specify dtype option on import or set low_memory=False.\n",
      "  taxi_data = pd.read_csv(taxi_data_path)\n"
     ]
    }
   ],
   "source": [
    "from fastapi import FastAPI\n",
    "import pandas as pd\n",
    "import numpy as np\n",
    "\n",
    "# Load datasets\n",
    "taxi_data_path = 'Yellow_Tripdata_2024-10_reducido.csv'\n",
    "zone_data_path = 'transformed_taxi_zone_merged_with_locations.csv'\n",
    "\n",
    "taxi_data = pd.read_csv(taxi_data_path)\n",
    "zone_data = pd.read_csv(zone_data_path)\n",
    "\n",
    "# Create FastAPI app\n",
    "app = FastAPI()\n",
    "\n",
    "# Preprocess data\n",
    "# Merge dataframes if needed\n",
    "data = taxi_data.merge(zone_data, left_on='PULocationID', right_on='locationid_x', how='left')\n",
    "\n",
    "def calculate_recommendations(work_amount):\n",
    "    # Define demand ranges based on work amount\n",
    "    demand_filters = {\n",
    "        \"mucho\": lambda df: df[df['trip_count'] >= df['trip_count'].quantile(0.75)],  # High demand\n",
    "        \"algo\": lambda df: df[(df['trip_count'] >= df['trip_count'].quantile(0.25)) & (df['trip_count'] < df['trip_count'].quantile(0.75))],  # Median demand\n",
    "        \"poco\": lambda df: df[df['trip_count'] < df['trip_count'].quantile(0.25)]  # Low demand\n",
    "    }\n",
    "\n",
    "    # Group by zones and calculate average earnings, trips, and distance\n",
    "    zone_summary = (\n",
    "        data.groupby('zone')\n",
    "        .agg({\n",
    "            'fare_amount': 'mean',\n",
    "            'trip_distance': 'mean',\n",
    "            'PULocationID': 'count',\n",
    "            'zone_latitude': 'mean',\n",
    "            'zone_longitude': 'mean'\n",
    "        })\n",
    "        .rename(columns={\n",
    "            'fare_amount': 'avg_earning',\n",
    "            'trip_distance': 'avg_distance',\n",
    "            'PULocationID': 'trip_count'\n",
    "        })\n",
    "        .reset_index()\n",
    "    )\n",
    "\n",
    "    # Filter zones based on demand level\n",
    "    demand_filter = demand_filters.get(work_amount.lower(), lambda df: df)\n",
    "    filtered_zones = demand_filter(zone_summary)\n",
    "\n",
    "    # Sort by trip count and average earnings, and select top zones\n",
    "    recommended_zones = filtered_zones.sort_values(by=['trip_count', 'avg_earning'], ascending=False).head(5)\n",
    "\n",
    "    # Add Google Maps URL using latitude and longitude\n",
    "    recommended_zones['maps_url'] = recommended_zones.apply(\n",
    "        lambda row: f\"https://www.google.com/maps?q={row['zone_latitude']},{row['zone_longitude']}\", axis=1\n",
    "    )\n",
    "\n",
    "    return recommended_zones[['zone', 'avg_earning', 'avg_distance', 'trip_count', 'maps_url']].to_dict(orient='records')\n",
    "\n",
    "@app.get(\"/recommendations\")\n",
    "def get_recommendations(work_amount: str):\n",
    "    \"\"\"\n",
    "    Get zone recommendations based on desired work amount.\n",
    "    work_amount: \"mucho\", \"algo\", or \"poco\".\n",
    "    \"\"\"\n",
    "    try:\n",
    "        recommendations = calculate_recommendations(work_amount)\n",
    "        return {\"status\": \"success\", \"data\": recommendations}\n",
    "    except Exception as e:\n",
    "        return {\"status\": \"error\", \"message\": str(e)}\n"
   ]
  },
  {
   "cell_type": "code",
   "execution_count": 38,
   "metadata": {},
   "outputs": [
    {
     "data": {
      "text/plain": [
       "{'status': 'success',\n",
       " 'data': [{'zone': 'JFK Airport',\n",
       "   'avg_earning': 59.36172296412674,\n",
       "   'avg_distance': 15.831527101335428,\n",
       "   'trip_count': 19095,\n",
       "   'maps_url': 'https://www.google.com/maps?q=40.90406018978221,-73.98946405903479'},\n",
       "  {'zone': 'Upper East Side South',\n",
       "   'avg_earning': 13.404588835692113,\n",
       "   'avg_distance': 1.9072988898826748,\n",
       "   'trip_count': 19007,\n",
       "   'maps_url': 'https://www.google.com/maps?q=40.82481644952361,-74.00010353638103'},\n",
       "  {'zone': 'Midtown Center',\n",
       "   'avg_earning': 16.922668123739072,\n",
       "   'avg_distance': 2.4220712844653667,\n",
       "   'trip_count': 17844,\n",
       "   'maps_url': 'https://www.google.com/maps?q=40.74862425294619,-73.65453220858619'},\n",
       "  {'zone': 'Upper East Side North',\n",
       "   'avg_earning': 13.597059493822718,\n",
       "   'avg_distance': 5.668473671584503,\n",
       "   'trip_count': 16674,\n",
       "   'maps_url': 'https://www.google.com/maps?q=40.87324570255901,-73.53026196122036'},\n",
       "  {'zone': 'Midtown East',\n",
       "   'avg_earning': 16.33640629662787,\n",
       "   'avg_distance': 2.3535034318113994,\n",
       "   'trip_count': 13404,\n",
       "   'maps_url': 'https://www.google.com/maps?q=40.650439154908376,-73.50759588639946'}]}"
      ]
     },
     "execution_count": 38,
     "metadata": {},
     "output_type": "execute_result"
    }
   ],
   "source": [
    "get_recommendations(\"Mucho\")"
   ]
  }
 ],
 "metadata": {
  "kernelspec": {
   "display_name": "Python 3",
   "language": "python",
   "name": "python3"
  },
  "language_info": {
   "codemirror_mode": {
    "name": "ipython",
    "version": 3
   },
   "file_extension": ".py",
   "mimetype": "text/x-python",
   "name": "python",
   "nbconvert_exporter": "python",
   "pygments_lexer": "ipython3",
   "version": "3.12.1"
  }
 },
 "nbformat": 4,
 "nbformat_minor": 2
}
